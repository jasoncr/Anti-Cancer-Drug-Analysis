{
 "cells": [
  {
   "cell_type": "markdown",
   "metadata": {},
   "source": [
    "## Observations and Insights "
   ]
  },
  {
   "cell_type": "markdown",
   "metadata": {},
   "source": []
  },
  {
   "cell_type": "code",
   "execution_count": 1,
   "metadata": {},
   "outputs": [],
   "source": [
    "# Dependencies and Setup\n",
    "import matplotlib.pyplot as plt\n",
    "import pandas as pd\n",
    "import scipy.stats as st\n",
    "\n",
    "# Study data files\n",
    "mouse_metadata_path = \"data/Mouse_metadata.csv\"\n",
    "study_results_path = \"data/Study_results.csv\"\n",
    "\n",
    "# Read the mouse data and the study results\n",
    "mouse_metadata = pd.read_csv(mouse_metadata_path)\n",
    "study_results = pd.read_csv(study_results_path)\n",
    "\n",
    "# Combine the data into a single dataset\n",
    "merged_pd = pd.merge(mouse_metadata, study_results, on=\"Mouse ID\", how = \"outer\")\n",
    "merged_pd.head()"
   ]
  },
  {
   "cell_type": "code",
   "execution_count": 2,
   "metadata": {},
   "outputs": [],
   "source": [
    "# Checking the number of mice in the DataFrame.\n",
    "len(merged_pd[\"Mouse ID\"].unique())"
   ]
  },
  {
   "cell_type": "code",
   "execution_count": 3,
   "metadata": {},
   "outputs": [],
   "source": [
    "# Getting the duplicate mice by ID number that shows up for Mouse ID and Timepoint. \n",
    "merged_pd.groupby([\"Mouse ID\",\"Timepoint\"]).count()"
   ]
  },
  {
   "cell_type": "code",
   "execution_count": 4,
   "metadata": {},
   "outputs": [],
   "source": [
    "# Optional: Get all the data for the duplicate mouse ID. \n"
   ]
  },
  {
   "cell_type": "code",
   "execution_count": 5,
   "metadata": {},
   "outputs": [],
   "source": [
    "# Create a clean DataFrame by dropping the duplicate mouse by its ID.\n"
   ]
  },
  {
   "cell_type": "code",
   "execution_count": 6,
   "metadata": {},
   "outputs": [],
   "source": [
    "# Checking the number of mice in the clean DataFrame.\n"
   ]
  },
  {
   "cell_type": "markdown",
   "metadata": {},
   "source": [
    "## Summary Statistics"
   ]
  },
  {
   "cell_type": "code",
   "execution_count": 7,
   "metadata": {},
   "outputs": [],
   "source": [
    "# Generate a summary statistics table of mean, median, variance, standard deviation, and SEM of the tumor volume for each regimen\n",
    "Summary_df = merged_pd[[\"Drug Regimen\", \"Tumor Volume (mm3)\"]].copy()\n",
    "Summary_count_df = Summary_df.groupby([\"Drug Regimen\"]).count()\n",
    "Summary_sum_df = Summary_df.groupby([\"Drug Regimen\"]).sum()\n",
    "Summary_median_df = Summary_df.groupby([\"Drug Regimen\"]).median()\n",
    "Summary_stdev_df = Summary_df.groupby([\"Drug Regimen\"]).std()\n",
    "Summary_sem_df = Summary_df.groupby([\"Drug Regimen\"]).sem()\n",
    "FINAL_pd = pd.merge(Summary_count_df, Summary_sum_df, on = \"Drug Regimen\", how = \"outer\")\n",
    "FINAL_pd = pd.merge(FINAL_pd, Summary_median_df, on = \"Drug Regimen\", how = \"outer\")\n",
    "FINAL_pd = FINAL_pd.rename(columns={\"Tumor Volume (mm3)_x\":\"Count\", \"Tumor Volume (mm3)_y\":\"Sum\", \"Tumor Volume (mm3)\": \"Median\"})\n",
    "#Summary_df=Summary_df.describe()\n",
    "FINAL_pd[\"Mean\"]=FINAL_pd.Sum/FINAL_pd.Count\n",
    "FINAL_pd = pd.merge(FINAL_pd, Summary_stdev_df, on = \"Drug Regimen\", how = \"outer\")\n",
    "FINAL_pd = FINAL_pd.rename(columns={\"Tumor Volume (mm3)\":\"Standard Deviation\"})\n",
    "FINAL_pd[\"Variance\"]=FINAL_pd[\"Standard Deviation\"]**2\n",
    "FINAL_pd = pd.merge(FINAL_pd, Summary_sem_df, on = \"Drug Regimen\", how = \"outer\")\n",
    "FINAL_pd = FINAL_pd.rename(columns={\"Tumor Volume (mm3)\":\"SEM\"})\n",
    "FINAL_pd\n",
    "#Summary_df\n",
    "\n",
    "# This method is the most straightforward, creating multiple series and putting them all together at the end."
   ]
  },
  {
   "cell_type": "code",
   "execution_count": 8,
   "metadata": {
    "scrolled": true
   },
   "outputs": [],
   "source": [
    "# Generate a summary statistics table of mean, median, variance, standard deviation, and SEM of the tumor volume for each regimen\n",
    "Summary_df = merged_pd[[\"Drug Regimen\", \"Tumor Volume (mm3)\"]].copy()\n",
    "single_df=Summary_df.groupby(\"Drug Regimen\")\n",
    "single_df.describe()\n",
    "# This method produces everything in a single groupby function."
   ]
  },
  {
   "cell_type": "markdown",
   "metadata": {},
   "source": [
    "## Bar Plots"
   ]
  },
  {
   "cell_type": "code",
   "execution_count": 9,
   "metadata": {},
   "outputs": [],
   "source": [
    "# Generate a bar plot showing the number of mice per time point for each treatment throughout the course of the study using pandas.\n",
    "bar_df = merged_pd[[\"Drug Regimen\", \"Tumor Volume (mm3)\",\"Timepoint\"]].copy()\n",
    "bar_df=bar_df.groupby([\"Drug Regimen\", \"Timepoint\"]).count()\n",
    "bar_df.plot(kind=\"bar\", figsize=(20,5))"
   ]
  },
  {
   "cell_type": "code",
   "execution_count": 10,
   "metadata": {},
   "outputs": [],
   "source": [
    "# Generate a bar plot showing the number of mice per time point for each treatment throughout the course of the study using pyplot.\n",
    "bar_df = merged_pd[[\"Drug Regimen\", \"Tumor Volume (mm3)\",\"Timepoint\"]].copy()\n",
    "bar_df=bar_df.groupby([\"Drug Regimen\", \"Timepoint\"]).count()\n",
    "x = np.arange(len(bar_df))\n",
    "plt.bar(x, bar_df[\"Tumor Volume (mm3)\"], color='r', alpha=0.5, align=\"edge\")"
   ]
  },
  {
   "cell_type": "markdown",
   "metadata": {},
   "source": [
    "## Pie Plots"
   ]
  },
  {
   "cell_type": "code",
   "execution_count": 11,
   "metadata": {},
   "outputs": [],
   "source": [
    "# Generate a pie plot showing the distribution of female versus male mice using pandas\n",
    "sex_pd = merged_pd[[\"Sex\", \"Mouse ID\"]].copy()\n",
    "sex_pd.head()\n",
    "sex_pd= sex_pd.groupby([\"Sex\"]).count()\n",
    "sex_pd\n",
    "sex_pd.plot.pie(y='Mouse ID', figsize=(5, 5))"
   ]
  },
  {
   "cell_type": "code",
   "execution_count": 12,
   "metadata": {},
   "outputs": [],
   "source": [
    "# Generate a pie plot showing the distribution of female versus male mice using pyplot\n",
    "sex_pd = merged_pd[[\"Sex\", \"Mouse ID\"]].copy()\n",
    "sex_pd.head()\n",
    "sex_pd= sex_pd.groupby([\"Sex\"]).count()\n",
    "sex_pd\n",
    "plt.pie(sex_pd[\"Mouse ID\"])"
   ]
  },
  {
   "cell_type": "markdown",
   "metadata": {},
   "source": [
    "## Quartiles, Outliers and Boxplots"
   ]
  },
  {
   "cell_type": "code",
   "execution_count": 13,
   "metadata": {},
   "outputs": [],
   "source": [
    "# Calculate the final tumor volume of each mouse across four of the most promising treatment regimens. Calculate the IQR and quantitatively determine if there are any potential outliers. \n"
   ]
  },
  {
   "cell_type": "code",
   "execution_count": 14,
   "metadata": {},
   "outputs": [],
   "source": [
    "# Generate a box plot of the final tumor volume of each mouse across four regimens of interest"
   ]
  },
  {
   "cell_type": "markdown",
   "metadata": {},
   "source": [
    "## Line and Scatter Plots"
   ]
  },
  {
   "cell_type": "code",
   "execution_count": 15,
   "metadata": {},
   "outputs": [],
   "source": [
    "# Generate a line plot of time point versus tumor volume for a mouse treated with Capomulin\n",
    "Line_pd = merged_pd[[\"Drug Regimen\", \"Mouse ID\", \"Tumor Volume (mm3)\"]].copy\n",
    "Line_pd = pd.DataFrame(merged_pd)\n",
    "Line_pd\n",
    "#Line_pd.set_index('Drug Regimen')"
   ]
  },
  {
   "cell_type": "code",
   "execution_count": 16,
   "metadata": {},
   "outputs": [],
   "source": [
    "# Generate a scatter plot of mouse weight versus average tumor volume for the Capomulin regimen\n",
    "\n"
   ]
  },
  {
   "cell_type": "markdown",
   "metadata": {},
   "source": [
    "## Correlation and Regression"
   ]
  },
  {
   "cell_type": "code",
   "execution_count": 17,
   "metadata": {},
   "outputs": [],
   "source": [
    "# Calculate the correlation coefficient and linear regression model \n",
    "# for mouse weight and average tumor volume for the Capomulin regimen\n"
   ]
  },
  {
   "cell_type": "code",
   "execution_count": null,
   "metadata": {},
   "outputs": [],
   "source": []
  }
 ],
 "metadata": {
  "anaconda-cloud": {},
  "kernelspec": {
   "display_name": "Python 3",
   "language": "python",
   "name": "python3"
  },
  "language_info": {
   "codemirror_mode": {
    "name": "ipython",
    "version": 3
   },
   "file_extension": ".py",
   "mimetype": "text/x-python",
   "name": "python",
   "nbconvert_exporter": "python",
   "pygments_lexer": "ipython3",
   "version": "3.7.6"
  }
 },
 "nbformat": 4,
 "nbformat_minor": 2
}
